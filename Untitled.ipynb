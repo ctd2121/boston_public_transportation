{
 "cells": [
  {
   "cell_type": "code",
   "execution_count": 1,
   "metadata": {
    "collapsed": true
   },
   "outputs": [],
   "source": [
    "import pandas as pd"
   ]
  },
  {
   "cell_type": "code",
   "execution_count": 6,
   "metadata": {
    "collapsed": true
   },
   "outputs": [],
   "source": [
    "df = pd.read_csv('./data/turnstile_data.csv')\n",
    "stations = df.station.unique()"
   ]
  },
  {
   "cell_type": "code",
   "execution_count": 8,
   "metadata": {
    "collapsed": true
   },
   "outputs": [],
   "source": [
    "coords = {'Andrew Square' : '42.33195 -71.05721',\n",
    "         'JFK/U Mass' : '42.32060 -71.05237',\n",
    "         'North Quincy' : '42.27581 -71.03017',\n",
    "         'Wollaston' : '42.26677 -71.02051',\n",
    "         'Quincy Center' : '42.25199 -71.00550',\n",
    "         'South Station' : '42.35192 -71.05507',\n",
    "         'Maverick' : '42.36913 -71.03954',\n",
    "         'Airport' : '42.36589 -71.01755',\n",
    "         'Aquarium' : '42.35922 -71.04915',\n",
    "         'Wood Island' : '42.37972 -71.02294',\n",
    "         'Orient Heights' : '42.38925 -71.00000',\n",
    "         'Suffolk Downs' : '42.39050 -70.99712',\n",
    "         'Beachmont' : '42.39720 -70.99252',\n",
    "         'Revere Beach' : '42.40787 -70.99253',\n",
    "         'Wonderland' : '42.41364 -70.99160',\n",
    "         'Bowdoin' : '42.36137 -71.06204',\n",
    "         'Braintree' : '42.20753 -71.00136',\n",
    "         'Alewife' : '42.39563 -71.14190',\n",
    "         'Davis Square' : '42.39672 -71.12232',\n",
    "         'Porter Square' : '42.38886 -71.11940',\n",
    "         'Harvard' : '42.37354 -71.11896',\n",
    "         'Central Square' : '42.36533 -71.10444',\n",
    "         'Kendall Square' : '42.36287 -71.09010',\n",
    "         'Downtown Crossing' : '42.35550 -71.05943',\n",
    "         'Savin Hill' : '42.30986 -71.04996',\n",
    "         'Fields Corner' : '42.30010 -71.05783',\n",
    "         'Shawmut' : '42.34327 -71.07132',\n",
    "         'Ashmont' : '42.28452 -71.06379',\n",
    "         'Government Center' : '42.36048 -71.05906',\n",
    "         'Park Street' : '42.35706 -71.06258',\n",
    "         'Boylston' : '42.34865 -71.08270',\n",
    "         'Arlington' : '42.35190 -71.07071',\n",
    "         'Copley Square' : '42.34832 -71.07597', \n",
    "         'Symphony' : '42.34268 -71.08505',\n",
    "         'Hynes' : '42.34797 -71.08793',\n",
    "         'Prudential' : '42.34568 -71.08116',\n",
    "         'Kenmore Square' : '42.34889 -71.09567',\n",
    "         'Science Park' : '42.36682 -71.06778',\n",
    "         'Lechmere' : '42.37093 -71.07750',\n",
    "         'Oak Grove' : '42.43667 -71.07110',\n",
    "         'Malden Center ' : '42.42678 -71.07431',\n",
    "         'Wellington ' : '42.41121 -71.08283',\n",
    "         'Sullivan Square' : '42.38403 -71.07655',\n",
    "         'Community College' : '42.37368 -71.06968',\n",
    "         'North Station' : '42.36565 -71.06388',\n",
    "         'Haymarket' : '42.36285 -71.05827',\n",
    "         'State Street' : '42.35749 -71.05744',\n",
    "         'Chinatown' : '42.35239 -71.06257',\n",
    "         'Tufts Medical Center' : '42.34966 -71.06392',\n",
    "         'Back Bay' : '42.34735 -71.07570',\n",
    "         'Mass Ave' : '42.34168 -71.08329',\n",
    "         'Ruggles' : '42.33665 -71.08941',\n",
    "         'Roxbury Crossing' : '42.33134 -71.09550',\n",
    "         'Jackson Square' : '42.32320 -71.09978',\n",
    "         'Stony Brook' : '42.31727 -71.10416',\n",
    "         'Green Street' : '42.31041 -71.10757',\n",
    "         'Forest Hills' : '42.30069 -71.11397',\n",
    "         'Riverside' : '42.33737 -71.25260',\n",
    "         'Quincy Adams' : '42.23309 -71.00723',\n",
    "         'Broadway' : '42.34257 -71.05694',\n",
    "         'Courthouse' : '42.35226 -71.04690',\n",
    "         'World Trade Center' : '42.34873 -71.04227',\n",
    "         'Charles MGH' : '42.36122 -71.07054'}"
   ]
  },
  {
   "cell_type": "code",
   "execution_count": null,
   "metadata": {
    "collapsed": true
   },
   "outputs": [],
   "source": []
  }
 ],
 "metadata": {
  "kernelspec": {
   "display_name": "Python 3",
   "language": "python",
   "name": "python3"
  },
  "language_info": {
   "codemirror_mode": {
    "name": "ipython",
    "version": 3
   },
   "file_extension": ".py",
   "mimetype": "text/x-python",
   "name": "python",
   "nbconvert_exporter": "python",
   "pygments_lexer": "ipython3",
   "version": "3.6.2"
  }
 },
 "nbformat": 4,
 "nbformat_minor": 2
}
